{
 "cells": [
  {
   "cell_type": "code",
   "execution_count": 1,
   "id": "20fd5bbc",
   "metadata": {},
   "outputs": [],
   "source": [
    "#importing relevant libraries\n",
    "'''\n",
    "\n",
    "layers\n",
    "layers to add to the nn\n",
    "\n",
    "losses\n",
    "loss function to consider\n",
    "\n",
    "datasets\n",
    "MNIST,CIFAR10,etc.\n",
    "\n",
    "Models\n",
    "Sequentail model of network usually used can sequentially add layers to build \n",
    "\n",
    "'''\n",
    "import matplotlib.pyplot as plt\n",
    "import numpy as np\n",
    "import pandas as pd\n",
    "import tensorflow as tf\n",
    "\n",
    "from tensorflow.keras import losses,Sequential\n",
    "from tensorflow.keras.layers import Input,GaussianNoise,Dense,Reshape,Flatten \n",
    "from tensorflow.keras.datasets import fashion_mnist\n",
    "from tensorflow.keras.models import Model\n",
    "#building the nn\n"
   ]
  },
  {
   "cell_type": "code",
   "execution_count": 2,
   "id": "48cb6b6b",
   "metadata": {},
   "outputs": [],
   "source": [
    "#Loading CIFAR10\n",
    "(x_train, y_train), (x_test, y_test) = fashion_mnist.load_data()"
   ]
  },
  {
   "cell_type": "code",
   "execution_count": 3,
   "id": "d2272904",
   "metadata": {},
   "outputs": [
    {
     "data": {
      "text/plain": [
       "<matplotlib.image.AxesImage at 0x1c5fe5015a0>"
      ]
     },
     "execution_count": 3,
     "metadata": {},
     "output_type": "execute_result"
    },
    {
     "data": {
      "image/png": "[encoded data removed]",
      "text/plain": [
       "<Figure size 432x288 with 1 Axes>"
      ]
     },
     "metadata": {
      "needs_background": "light"
     },
     "output_type": "display_data"
    }
   ],
   "source": [
    "plt.imshow(x_train[0])"
   ]
  },
  {
   "cell_type": "code",
   "execution_count": 4,
   "id": "a4185c30",
   "metadata": {},
   "outputs": [
    {
     "name": "stdout",
     "output_type": "stream",
     "text": [
      "(60000, 28, 28)\n"
     ]
    }
   ],
   "source": [
    "x_train=x_train/255\n",
    "x_test=x_test/255\n",
    "print(x_train.shape)"
   ]
  },
  {
   "cell_type": "code",
   "execution_count": 5,
   "id": "84ab6640",
   "metadata": {},
   "outputs": [],
   "source": [
    "noise = GaussianNoise(0.2)"
   ]
  },
  {
   "cell_type": "code",
   "execution_count": 6,
   "id": "6170236a",
   "metadata": {},
   "outputs": [],
   "source": [
    "#Dense simpler but convolution network computationally more powerful\n",
    "encoder = Sequential([\n",
    "Flatten(input_shape=[28,28]),GaussianNoise(0.2), \n",
    "Dense(250,activation='relu'),\n",
    "Dense(125,activation='relu'),\n",
    "Dense(60,activation='relu'),\n",
    "Dense(30,activation='relu')\n",
    "])\n",
    "decoder = Sequential([\n",
    "Dense(60,activation='relu'),\n",
    "Dense(125,activation='relu'),\n",
    "Dense(250,activation='relu'),\n",
    "Dense(28*28,activation='sigmoid'),\n",
    "Reshape([28,28])\n",
    "#opposite of encoder layers input output\n",
    "])\n"
   ]
  },
  {
   "cell_type": "code",
   "execution_count": 7,
   "id": "73cb786b",
   "metadata": {},
   "outputs": [],
   "source": [
    "autoencoder = Sequential([encoder,decoder])"
   ]
  },
  {
   "cell_type": "code",
   "execution_count": 8,
   "id": "f1648a49",
   "metadata": {},
   "outputs": [],
   "source": [
    "autoencoder.compile(optimizer=\"adam\", loss=\"mse\")"
   ]
  },
  {
   "cell_type": "code",
   "execution_count": 9,
   "id": "2f46e9b8",
   "metadata": {},
   "outputs": [
    {
     "name": "stdout",
     "output_type": "stream",
     "text": [
      "Epoch 1/8\n",
      "1875/1875 [==============================] - 6s 3ms/step - loss: 0.0264 - val_loss: 0.0180\n",
      "Epoch 2/8\n",
      "1875/1875 [==============================] - 6s 3ms/step - loss: 0.0176 - val_loss: 0.0160\n",
      "Epoch 3/8\n",
      "1875/1875 [==============================] - 6s 3ms/step - loss: 0.0159 - val_loss: 0.0148\n",
      "Epoch 4/8\n",
      "1875/1875 [==============================] - 6s 3ms/step - loss: 0.0149 - val_loss: 0.0140\n",
      "Epoch 5/8\n",
      "1875/1875 [==============================] - 6s 3ms/step - loss: 0.0142 - val_loss: 0.0132\n",
      "Epoch 6/8\n",
      "1875/1875 [==============================] - 6s 3ms/step - loss: 0.0138 - val_loss: 0.0130\n",
      "Epoch 7/8\n",
      "1875/1875 [==============================] - 6s 3ms/step - loss: 0.0134 - val_loss: 0.0125\n",
      "Epoch 8/8\n",
      "1875/1875 [==============================] - 6s 3ms/step - loss: 0.0132 - val_loss: 0.0127\n"
     ]
    },
    {
     "data": {
      "text/plain": [
       "<keras.callbacks.History at 0x1c6258516f0>"
      ]
     },
     "execution_count": 9,
     "metadata": {},
     "output_type": "execute_result"
    }
   ],
   "source": [
    "autoencoder.fit(x_train, x_train,\n",
    "                epochs=8,\n",
    "                shuffle=True,\n",
    "                validation_data=[x_test, x_test])"
   ]
  },
  {
   "cell_type": "code",
   "execution_count": 14,
   "id": "5b1871fd",
   "metadata": {},
   "outputs": [
    {
     "name": "stdout",
     "output_type": "stream",
     "text": [
      "Model: \"sequential\"\n",
      "_________________________________________________________________\n",
      " Layer (type)                Output Shape              Param #   \n",
      "=================================================================\n",
      " flatten (Flatten)           (None, 784)               0         \n",
      "                                                                 \n",
      " gaussian_noise_1 (GaussianN  (None, 784)              0         \n",
      " oise)                                                           \n",
      "                                                                 \n",
      " dense (Dense)               (None, 250)               196250    \n",
      "                                                                 \n",
      " dense_1 (Dense)             (None, 125)               31375     \n",
      "                                                                 \n",
      " dense_2 (Dense)             (None, 60)                7560      \n",
      "                                                                 \n",
      " dense_3 (Dense)             (None, 30)                1830      \n",
      "                                                                 \n",
      "=================================================================\n",
      "Total params: 237,015\n",
      "Trainable params: 237,015\n",
      "Non-trainable params: 0\n",
      "_________________________________________________________________\n"
     ]
    }
   ],
   "source": [
    "encoder.summary()\n"
   ]
  },
  {
   "cell_type": "code",
   "execution_count": 11,
   "id": "c2aa7f39",
   "metadata": {},
   "outputs": [
    {
     "name": "stdout",
     "output_type": "stream",
     "text": [
      "Model: \"sequential_1\"\n",
      "_________________________________________________________________\n",
      " Layer (type)                Output Shape              Param #   \n",
      "=================================================================\n",
      " dense_4 (Dense)             (None, 60)                1860      \n",
      "                                                                 \n",
      " dense_5 (Dense)             (None, 125)               7625      \n",
      "                                                                 \n",
      " dense_6 (Dense)             (None, 250)               31500     \n",
      "                                                                 \n",
      " dense_7 (Dense)             (None, 784)               196784    \n",
      "                                                                 \n",
      " reshape (Reshape)           (None, 28, 28)            0         \n",
      "                                                                 \n",
      "=================================================================\n",
      "Total params: 237,769\n",
      "Trainable params: 237,769\n",
      "Non-trainable params: 0\n",
      "_________________________________________________________________\n"
     ]
    }
   ],
   "source": [
    "decoder.summary()"
   ]
  },
  {
   "cell_type": "code",
   "execution_count": 12,
   "id": "aa5199bd",
   "metadata": {},
   "outputs": [],
   "source": [
    "noise_img = noise(x_test[0:1],training=True)\n",
    "clear_img = autoencoder(noise_img[0:1])"
   ]
  },
  {
   "cell_type": "code",
   "execution_count": 13,
   "id": "c5c5d801",
   "metadata": {},
   "outputs": [
    {
     "name": "stdout",
     "output_type": "stream",
     "text": [
      "Original\n"
     ]
    },
    {
     "data": {
      "image/png": "[encoded data removed]",
      "text/plain": [
       "<Figure size 432x288 with 1 Axes>"
      ]
     },
     "metadata": {
      "needs_background": "light"
     },
     "output_type": "display_data"
    },
    {
     "name": "stdout",
     "output_type": "stream",
     "text": [
      "with noise\n"
     ]
    },
    {
     "data": {
      "image/png": "[encoded data removed]",
      "text/plain": [
       "<Figure size 432x288 with 1 Axes>"
      ]
     },
     "metadata": {
      "needs_background": "light"
     },
     "output_type": "display_data"
    },
    {
     "name": "stdout",
     "output_type": "stream",
     "text": [
      "Denoised\n"
     ]
    },
    {
     "data": {
      "image/png": "[encoded data removed]",
      "text/plain": [
       "<Figure size 432x288 with 1 Axes>"
      ]
     },
     "metadata": {
      "needs_background": "light"
     },
     "output_type": "display_data"
    }
   ],
   "source": [
    "print(\"Original\")\n",
    "plt.imshow(x_test[0])\n",
    "plt.show()\n",
    "print(\"with noise\")\n",
    "plt.imshow(noise_img[0])\n",
    "plt.show()\n",
    "print(\"Denoised\")\n",
    "plt.imshow(clear_img[0])\n",
    "plt.show()"
   ]
  },
  {
   "cell_type": "code",
   "execution_count": null,
   "id": "543a0086",
   "metadata": {},
   "outputs": [],
   "source": []
  }
 ],
 "metadata": {
  "kernelspec": {
   "display_name": "Python 3 (ipykernel)",
   "language": "python",
   "name": "python3"
  },
  "language_info": {
   "codemirror_mode": {
    "name": "ipython",
    "version": 3
   },
   "file_extension": ".py",
   "mimetype": "text/x-python",
   "name": "python",
   "nbconvert_exporter": "python",
   "pygments_lexer": "ipython3",
   "version": "3.10.5"
  }
 },
 "nbformat": 4,
 "nbformat_minor": 5
}
