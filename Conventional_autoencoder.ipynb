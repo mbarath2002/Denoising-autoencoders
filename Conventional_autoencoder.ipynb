{
 "cells": [
  {
   "cell_type": "code",
   "execution_count": 34,
   "id": "792bdd86",
   "metadata": {},
   "outputs": [],
   "source": [
    "#importing relevant libraries\n",
    "'''\n",
    "1) sklearn tools\n",
    "\n",
    "accuracy_score\n",
    "how accurate model is\n",
    "\n",
    "precision_score\n",
    "tp/tp+fp\n",
    "\n",
    "recall_score\n",
    "tp/tp+fn\n",
    "\n",
    "test_train_split\n",
    "How to divide given dataset between training set and test set by percentage\n",
    "\n",
    "2) keras\n",
    "\n",
    "layers\n",
    "layers to add to the nn\n",
    "\n",
    "losses\n",
    "loss function to consider\n",
    "\n",
    "datasets\n",
    "MNIST,CIFAR10,etc.\n",
    "\n",
    "Models\n",
    "Sequentail model of network usually used can sequentially add layers to build \n",
    "\n",
    "'''\n",
    "import matplotlib.pyplot as plt\n",
    "import numpy as np\n",
    "import pandas as pd3\n",
    "import tensorflow as tf\n",
    "\n",
    "from sklearn.metrics import accuracy_score, precision_score, recall_score\n",
    "#evaluation\n",
    "\n",
    "from sklearn.model_selection import train_test_split\n",
    "#x_train,x_test,y_train,y_test=train_test_split(a,b,test_size=0.2,train_size=None,random_state=42)\n",
    "#random_state randomizer value\n",
    "\n",
    "from tensorflow.keras import layers, losses\n",
    "from tensorflow.keras.datasets import fashion_mnist\n",
    "from tensorflow.keras.models import Model\n",
    "#building the nn\n"
   ]
  },
  {
   "cell_type": "code",
   "execution_count": 35,
   "id": "98c743d7",
   "metadata": {},
   "outputs": [
    {
     "name": "stdout",
     "output_type": "stream",
     "text": [
      "(60000, 28, 28)\n",
      "(10000, 28, 28)\n"
     ]
    }
   ],
   "source": [
    "(x_train, _), (x_test, _) = fashion_mnist.load_data()\n",
    "\n",
    "x_train = x_train.astype('float32') / 255.\n",
    "x_test = x_test.astype('float32') / 255.\n",
    "\n",
    "print (x_train.shape)\n",
    "print (x_test.shape)"
   ]
  },
  {
   "cell_type": "code",
   "execution_count": 36,
   "id": "6404d1de",
   "metadata": {},
   "outputs": [],
   "source": [
    "latent_dim = 32 \n",
    "\n",
    "class autoencoder(Model):\n",
    "  def __init__(self, latent_dim):\n",
    "    super(autoencoder, self).__init__()\n",
    "    self.latent_dim = latent_dim  \n",
    "    \n",
    "    self.encoder = tf.keras.Sequential([\n",
    "        \n",
    "      layers.Flatten(),\n",
    "    #Flatten compresses input dimension (60,2,2)--(60,4)\n",
    "        \n",
    "      layers.Dense(latent_dim, activation='relu'),\n",
    "    #Dense layer calculates output = activation(dot(input, kernel) + bias)\n",
    "    ])\n",
    "    \n",
    "    self.decoder = tf.keras.Sequential([\n",
    "      layers.Dense(784, activation='sigmoid'),\n",
    "      layers.Reshape((28, 28))\n",
    "    ])\n",
    "\n",
    "  def call(self, x):\n",
    "    encoded = self.encoder(x)\n",
    "    decoded = self.decoder(encoded)\n",
    "    return decoded\n",
    "\n",
    "a = autoencoder(latent_dim)"
   ]
  },
  {
   "cell_type": "code",
   "execution_count": 37,
   "id": "675b9208",
   "metadata": {},
   "outputs": [],
   "source": [
    "a.compile(optimizer='adam', loss=losses.MeanSquaredError())\n"
   ]
  },
  {
   "cell_type": "code",
   "execution_count": 38,
   "id": "506f9322",
   "metadata": {},
   "outputs": [
    {
     "name": "stdout",
     "output_type": "stream",
     "text": [
      "Epoch 1/10\n",
      "1875/1875 [==============================] - 2s 942us/step - loss: 0.0291 - val_loss: 0.0168\n",
      "Epoch 2/10\n",
      "1875/1875 [==============================] - 2s 934us/step - loss: 0.0151 - val_loss: 0.0141\n",
      "Epoch 3/10\n",
      "1875/1875 [==============================] - 2s 918us/step - loss: 0.0137 - val_loss: 0.0135\n",
      "Epoch 4/10\n",
      "1875/1875 [==============================] - 2s 968us/step - loss: 0.0133 - val_loss: 0.0132\n",
      "Epoch 5/10\n",
      "1875/1875 [==============================] - 2s 904us/step - loss: 0.0131 - val_loss: 0.0132\n",
      "Epoch 6/10\n",
      "1875/1875 [==============================] - 2s 885us/step - loss: 0.0130 - val_loss: 0.0130\n",
      "Epoch 7/10\n",
      "1875/1875 [==============================] - 2s 884us/step - loss: 0.0129 - val_loss: 0.0130\n",
      "Epoch 8/10\n",
      "1875/1875 [==============================] - 2s 909us/step - loss: 0.0128 - val_loss: 0.0129\n",
      "Epoch 9/10\n",
      "1875/1875 [==============================] - 2s 921us/step - loss: 0.0128 - val_loss: 0.0130\n",
      "Epoch 10/10\n",
      "1875/1875 [==============================] - 2s 883us/step - loss: 0.0127 - val_loss: 0.0130\n"
     ]
    },
    {
     "data": {
      "text/plain": [
       "<keras.callbacks.History at 0x225a39cdbd0>"
      ]
     },
     "execution_count": 38,
     "metadata": {},
     "output_type": "execute_result"
    }
   ],
   "source": [
    "a.fit(x_train, x_train,\n",
    "                epochs=10,\n",
    "                shuffle=True,\n",
    "                validation_data=(x_test, x_test))"
   ]
  },
  {
   "cell_type": "code",
   "execution_count": 40,
   "id": "81798134",
   "metadata": {},
   "outputs": [],
   "source": [
    "encoded = a.encoder(x_test).numpy()\n",
    "decoded = a.decoder(encoded).numpy()"
   ]
  },
  {
   "cell_type": "code",
   "execution_count": 41,
   "id": "0423f337",
   "metadata": {},
   "outputs": [
    {
     "data": {
      "image/png": "[encoded data removed]",
      "text/plain": [
       "<Figure size 1440x288 with 10 Axes>"
      ]
     },
     "metadata": {
      "needs_background": "light"
     },
     "output_type": "display_data"
    }
   ],
   "source": [
    "n = 5\n",
    "plt.figure(figsize=(20, 4))\n",
    "for i in range(n):\n",
    "  # display original\n",
    "  ax = plt.subplot(2, n, i + 1)\n",
    "  plt.imshow(x_test[i])\n",
    "  plt.title(\"Raw_input\")\n",
    "  plt.gray()\n",
    "  ax.get_xaxis().set_visible(False)\n",
    "  ax.get_yaxis().set_visible(False)\n",
    "\n",
    "  # display reconstruction\n",
    "  ax = plt.subplot(2, n, i + 1 + n)\n",
    "  plt.imshow(decoded[i])\n",
    "  plt.title(\"Reconstructed_input\")\n",
    "  plt.gray()\n",
    "  ax.get_xaxis().set_visible(False)\n",
    "  ax.get_yaxis().set_visible(False)\n",
    "plt.show()"
   ]
  },
  {
   "cell_type": "code",
   "execution_count": null,
   "id": "d7ce1ee9",
   "metadata": {},
   "outputs": [],
   "source": []
  }
 ],
 "metadata": {
  "kernelspec": {
   "display_name": "Python 3 (ipykernel)",
   "language": "python",
   "name": "python3"
  },
  "language_info": {
   "codemirror_mode": {
    "name": "ipython",
    "version": 3
   },
   "file_extension": ".py",
   "mimetype": "text/x-python",
   "name": "python",
   "nbconvert_exporter": "python",
   "pygments_lexer": "ipython3",
   "version": "3.10.5"
  }
 },
 "nbformat": 4,
 "nbformat_minor": 5
}
